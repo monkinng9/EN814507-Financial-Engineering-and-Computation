{
 "cells": [
  {
   "cell_type": "markdown",
   "id": "5087df3f",
   "metadata": {},
   "source": [
    "Call Option"
   ]
  },
  {
   "cell_type": "code",
   "execution_count": 28,
   "id": "c84d6d6d",
   "metadata": {},
   "outputs": [
    {
     "name": "stdout",
     "output_type": "stream",
     "text": [
      "A is number of bound\n",
      "A = [100 110]\n",
      "\n",
      "S is shared stock\n",
      "S₀ = 100, S₁ = [120 80]\n"
     ]
    }
   ],
   "source": [
    "# A is number of bound\n",
    "A = [100 110]\n",
    "\n",
    "# S is shared stock\n",
    "S₀ = 100\n",
    "S₁ = [ 120 80 ]\n",
    "\n",
    "println(\"A is number of bound\")\n",
    "println(\"A = $A\\n\")\n",
    "println(\"S is shared stock\")\n",
    "println(\"S₀ = $S₀, S₁ = $S₁\")"
   ]
  },
  {
   "cell_type": "code",
   "execution_count": 26,
   "id": "61bdedfd",
   "metadata": {},
   "outputs": [
    {
     "name": "stdout",
     "output_type": "stream",
     "text": [
      "C₁ is Pay off call option at time 1:\n",
      "C₁ = [\"120 - 100\" \"80 - 100\"] by [stock goes up, goes down]\n",
      "\n",
      "-20 turn to 0, then\n",
      "C₁ = [20 0]\n"
     ]
    }
   ],
   "source": [
    "# Pay off call option at time 1\n",
    "## [if stock goes up, goes down]\n",
    "C₁ = [\"120 - 100\" \"80 - 100\"]\n",
    "\n",
    "println(\"C₁ is Pay off call option at time 1:\")\n",
    "println(\"C₁ = $C₁ by [stock goes up, goes down]\\n\")\n",
    "println(\"-20 turn to 0, then\")\n",
    "C₁ = [20 0]\n",
    "println(\"C₁ = $C₁\")"
   ]
  },
  {
   "cell_type": "code",
   "execution_count": 25,
   "id": "1d72af84",
   "metadata": {},
   "outputs": [
    {
     "name": "stdout",
     "output_type": "stream",
     "text": [
      "**Replicate of Option**\n",
      "The time 1 value of invest in stock and bound will be\n"
     ]
    }
   ],
   "source": [
    "println(\"**Replicate of Option**\")\n",
    "println(\"The time 1 value of invest in stock and bound will be\")\n",
    "println(\"xS₁ + yA₁ = C₁\")\n",
    "\n",
    "M = [S₁[1] A[2]; S₁[2] A[2]]\n",
    "println(\"Then, C₁ = $M\")"
   ]
  },
  {
   "cell_type": "code",
   "execution_count": null,
   "id": "dd34347e",
   "metadata": {},
   "outputs": [],
   "source": []
  }
 ],
 "metadata": {
  "kernelspec": {
   "display_name": "Julia 1.5.3",
   "language": "julia",
   "name": "julia-1.5"
  },
  "language_info": {
   "file_extension": ".jl",
   "mimetype": "application/julia",
   "name": "julia",
   "version": "1.5.3"
  }
 },
 "nbformat": 4,
 "nbformat_minor": 5
}
