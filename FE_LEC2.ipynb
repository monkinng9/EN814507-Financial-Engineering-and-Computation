{
 "cells": [
  {
   "cell_type": "markdown",
   "id": "5bc96a37",
   "metadata": {},
   "source": [
    "**Call Option**"
   ]
  },
  {
   "cell_type": "code",
   "execution_count": 45,
   "id": "a9077e00",
   "metadata": {},
   "outputs": [
    {
     "name": "stdout",
     "output_type": "stream",
     "text": [
      "A is number of bound\n",
      "A = [100 110]\n",
      "\n",
      "S is shared stock\n",
      "S₀ = 100, S₁ = [120 80]\n"
     ]
    }
   ],
   "source": [
    "# A is number of bound\n",
    "A = [100 110]\n",
    "\n",
    "# S is shared stock\n",
    "S₀ = 100\n",
    "S₁ = [ 120 80 ]\n",
    "\n",
    "println(\"A is number of bound\")\n",
    "println(\"A = $A\\n\")\n",
    "println(\"S is shared stock\")\n",
    "println(\"S₀ = $S₀, S₁ = $S₁\")"
   ]
  },
  {
   "cell_type": "code",
   "execution_count": 46,
   "id": "6f13d0ef",
   "metadata": {},
   "outputs": [
    {
     "name": "stdout",
     "output_type": "stream",
     "text": [
      "C₁ is Pay off call option at time 1:\n",
      "C₁ = [\"120 - 100\" \"80 - 100\"] by [stock goes up, goes down]\n",
      "\n",
      "-20 turn to 0, then\n",
      "C₁ = [20, 0]\n"
     ]
    }
   ],
   "source": [
    "# Pay off call option at time 1\n",
    "## [if stock goes up, goes down]\n",
    "C₁ = [\"120 - 100\" \"80 - 100\"]\n",
    "\n",
    "println(\"C₁ is Pay off call option at time 1:\")\n",
    "println(\"C₁ = $C₁ by [stock goes up, goes down]\\n\")\n",
    "println(\"-20 turn to 0, then\")\n",
    "C₁ = [20, 0]\n",
    "println(\"C₁ = $C₁\")"
   ]
  },
  {
   "attachments": {
    "Screenshot%202022-07-08%20131508.jpg": {
     "image/jpeg": "[encoded data removed]"
    }
   },
   "cell_type": "markdown",
   "id": "daae438a",
   "metadata": {},
   "source": [
    "![Screenshot%202022-07-08%20131508.jpg](attachment:Screenshot%202022-07-08%20131508.jpg)"
   ]
  },
  {
   "cell_type": "code",
   "execution_count": 47,
   "id": "dbcbfb80",
   "metadata": {},
   "outputs": [
    {
     "name": "stdout",
     "output_type": "stream",
     "text": [
      "**Replicate of Option**\n",
      "The time 1 value of invest in stock and bound will be\n",
      "xS₁ + yA₁ = C₁\n",
      "Then find x and y, x = 0.4999999999999999, y = -0.36363636363636354\n"
     ]
    }
   ],
   "source": [
    "println(\"**Replicate of Option**\")\n",
    "println(\"The time 1 value of invest in stock and bound will be\")\n",
    "println(\"xS₁ + yA₁ = C₁\")\n",
    "\n",
    "M = [S₁[1] A[2]; S₁[2] A[2];]\n",
    "x,y = M\\C₁ \n",
    "println(\"Then find x and y, x = $x, y = $y\")"
   ]
  },
  {
   "attachments": {
    "Screenshot%202022-07-08%20132637.jpg": {
     "image/jpeg": "[encoded data removed]"
    }
   },
   "cell_type": "markdown",
   "id": "3eb04991",
   "metadata": {},
   "source": [
    "![Screenshot%202022-07-08%20132637.jpg](attachment:Screenshot%202022-07-08%20132637.jpg)"
   ]
  },
  {
   "cell_type": "code",
   "execution_count": 51,
   "id": "d5a5495e",
   "metadata": {},
   "outputs": [
    {
     "name": "stdout",
     "output_type": "stream",
     "text": [
      "**Pricing the option**\n",
      "We can compute the value of investment stock and bonds at time 0\n",
      "xS₀ + yA₀ = 13.636363636363633\n"
     ]
    }
   ],
   "source": [
    "println(\"**Pricing the option**\")\n",
    "println(\"We can compute the value of investment stock and bonds at time 0\")\n",
    "\n",
    "C₀ = x*S₀ + y*A[1]\n",
    "println(\"xS₀ + yA₀ = $C₀\")"
   ]
  },
  {
   "cell_type": "markdown",
   "id": "ab1241e4",
   "metadata": {},
   "source": [
    "**Put option**"
   ]
  },
  {
   "cell_type": "code",
   "execution_count": 53,
   "id": "a8446fde",
   "metadata": {},
   "outputs": [
    {
     "name": "stdout",
     "output_type": "stream",
     "text": [
      "Then find x and y, x = -0.49999999999999994, y = 0.5454545454545454\n"
     ]
    }
   ],
   "source": [
    "# A is number of bound\n",
    "A = [100 110]\n",
    "\n",
    "# S is shared stock\n",
    "S₀ = 100\n",
    "S₁ = [ 120 80 ]\n",
    "P₁ = [0, 20]\n",
    "\n",
    "M = [S₁[1] A[2]; S₁[2] A[2];]\n",
    "x,y = M\\P₁\n",
    "println(\"Then find x and y, x = $x, y = $y\")"
   ]
  },
  {
   "cell_type": "code",
   "execution_count": 54,
   "id": "97ae3240",
   "metadata": {},
   "outputs": [
    {
     "data": {
      "text/plain": [
       "4.545454545454547"
      ]
     },
     "execution_count": 54,
     "metadata": {},
     "output_type": "execute_result"
    }
   ],
   "source": [
    "C₀ = x*S₀ + y*A[1]"
   ]
  },
  {
   "cell_type": "code",
   "execution_count": null,
   "id": "d8bfb6c3",
   "metadata": {},
   "outputs": [],
   "source": []
  }
 ],
 "metadata": {
  "kernelspec": {
   "display_name": "Julia 1.5.3",
   "language": "julia",
   "name": "julia-1.5"
  },
  "language_info": {
   "file_extension": ".jl",
   "mimetype": "application/julia",
   "name": "julia",
   "version": "1.5.3"
  }
 },
 "nbformat": 4,
 "nbformat_minor": 5
}
